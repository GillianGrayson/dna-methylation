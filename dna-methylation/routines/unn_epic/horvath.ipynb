{
 "cells": [
  {
   "cell_type": "code",
   "execution_count": 1,
   "outputs": [],
   "source": [
    "import pandas as pd\n",
    "import statsmodels.formula.api as sm"
   ],
   "metadata": {
    "collapsed": false,
    "pycharm": {
     "name": "#%%\n"
    }
   }
  },
  {
   "cell_type": "code",
   "execution_count": 2,
   "outputs": [],
   "source": [
    "a = 0\n",
    "b = 1\n",
    "c = a + b\n",
    "o = 1"
   ],
   "metadata": {
    "collapsed": false,
    "pycharm": {
     "name": "#%%\n"
    }
   }
  },
  {
   "cell_type": "code",
   "execution_count": 4,
   "outputs": [],
   "source": [
    "def results_summary_to_dataframe(results):\n",
    "    '''take the result of an statsmodel results table and transforms it into a dataframe'''\n",
    "    pvals = results.pvalues\n",
    "    coeff = results.params\n",
    "    stds = results.bse\n",
    "\n",
    "    results_df = pd.DataFrame({\"pvals\":pvals,\n",
    "                               \"coeffs\":coeff,\n",
    "                               \"stds\":stds\n",
    "                                })\n",
    "    #Reordering...\n",
    "    results_df = results_df[[\"coeffs\",\"pvals\",\"stds\"]]\n",
    "    return results_df"
   ],
   "metadata": {
    "collapsed": false,
    "pycharm": {
     "name": "#%%\n"
    }
   }
  },
  {
   "cell_type": "code",
   "execution_count": 5,
   "outputs": [],
   "source": [
    "path = 'E:/YandexDisk/Work/pydnameth/unn_epic'\n",
    "df = pd.read_csv (f'{path}/betas_horvath_calculator_filtered_normallized.output.csv')"
   ],
   "metadata": {
    "collapsed": false,
    "pycharm": {
     "name": "#%%\n"
    }
   }
  },
  {
   "cell_type": "code",
   "execution_count": 6,
   "outputs": [
    {
     "name": "stdout",
     "output_type": "stream",
     "text": [
      "<class 'pandas.core.frame.DataFrame'>\n",
      "RangeIndex: 82 entries, 0 to 81\n",
      "Data columns (total 67 columns):\n",
      "SampleID                                 82 non-null object\n",
      "DNAmAge                                  82 non-null float64\n",
      "Comment                                  82 non-null object\n",
      "noMissingPerSample                       82 non-null int64\n",
      "meanMethBySample                         82 non-null float64\n",
      "minMethBySample                          82 non-null int64\n",
      "maxMethBySample                          82 non-null float64\n",
      "corSampleVSgoldstandard                  82 non-null float64\n",
      "meanAbsDifferenceSampleVSgoldstandard    82 non-null float64\n",
      "predictedGender                          82 non-null object\n",
      "meanXchromosome                          82 non-null int64\n",
      "AgeAccelerationDiff                      82 non-null float64\n",
      "AgeAccelerationResidual                  82 non-null float64\n",
      "Sample_Name                              82 non-null object\n",
      "Age                                      82 non-null int64\n",
      "Female                                   82 non-null int64\n",
      "Sample_Group                             82 non-null object\n",
      "CD8T                                     82 non-null float64\n",
      "CD4T                                     82 non-null float64\n",
      "NK                                       82 non-null float64\n",
      "Bcell                                    82 non-null float64\n",
      "Mono                                     82 non-null float64\n",
      "Gran                                     82 non-null float64\n",
      "propNeuron                               82 non-null float64\n",
      "DNAmAgeHannum                            82 non-null float64\n",
      "BioAge4HAStatic                          82 non-null float64\n",
      "PlasmaBlast                              82 non-null float64\n",
      "CD8pCD28nCD45RAn                         82 non-null float64\n",
      "CD8.naive                                82 non-null float64\n",
      "CD4.naive                                82 non-null float64\n",
      "DNAmPhenoAge                             82 non-null float64\n",
      "DNAmAgeSkinBloodClock                    82 non-null float64\n",
      "DNAmADM                                  82 non-null float64\n",
      "DNAmB2M                                  82 non-null float64\n",
      "DNAmCystatinC                            82 non-null float64\n",
      "DNAmGDF15                                82 non-null float64\n",
      "DNAmLeptin                               82 non-null float64\n",
      "DNAmPACKYRS                              82 non-null float64\n",
      "DNAmPAI1                                 82 non-null float64\n",
      "DNAmTIMP1                                82 non-null float64\n",
      "DNAmGrimAge                              82 non-null float64\n",
      "DNAmTL                                   82 non-null float64\n",
      "propNeuronAdjAge                         82 non-null float64\n",
      "DNAmAgeHannumAdjAge                      82 non-null float64\n",
      "BioAge4HAStaticAdjAge                    82 non-null float64\n",
      "PlasmaBlastAdjAge                        82 non-null float64\n",
      "CD8pCD28nCD45RAnAdjAge                   82 non-null float64\n",
      "CD8.naiveAdjAge                          82 non-null float64\n",
      "CD4.naiveAdjAge                          82 non-null float64\n",
      "DNAmPhenoAgeAdjAge                       82 non-null float64\n",
      "DNAmAgeSkinBloodClockAdjAge              82 non-null float64\n",
      "DNAmADMAdjAge                            82 non-null float64\n",
      "DNAmB2MAdjAge                            82 non-null float64\n",
      "DNAmCystatinCAdjAge                      82 non-null float64\n",
      "DNAmGDF15AdjAge                          82 non-null float64\n",
      "DNAmLeptinAdjAge                         82 non-null float64\n",
      "DNAmPACKYRSAdjAge                        82 non-null float64\n",
      "DNAmPAI1AdjAge                           82 non-null float64\n",
      "DNAmTIMP1AdjAge                          82 non-null float64\n",
      "DNAmGrimAgeAdjAge                        82 non-null float64\n",
      "DNAmTLAdjAge                             82 non-null float64\n",
      "IEAA                                     82 non-null float64\n",
      "EEAA                                     82 non-null float64\n",
      "IEAA.Hannum                              82 non-null float64\n",
      "AgeAccelerationResidualHannum            82 non-null float64\n",
      "AgeAccelGrim                             82 non-null float64\n",
      "AgeAccelPheno                            82 non-null float64\n",
      "dtypes: float64(57), int64(5), object(5)\n",
      "memory usage: 43.0+ KB\n",
      "None\n"
     ]
    }
   ],
   "source": [
    "df.describe()\n",
    "print(df.info())"
   ],
   "metadata": {
    "collapsed": false,
    "pycharm": {
     "name": "#%%\n"
    }
   }
  },
  {
   "cell_type": "code",
   "execution_count": 7,
   "outputs": [],
   "source": [
    "c = df[df['Sample_Group'] == 'C']\n",
    "t = df[df['Sample_Group'] == 'T']"
   ],
   "metadata": {
    "collapsed": false,
    "pycharm": {
     "name": "#%%\n"
    }
   }
  },
  {
   "cell_type": "code",
   "execution_count": 5,
   "outputs": [],
   "source": [
    "result_c = sm.ols(formula=\"DNAmAge ~ Age\", data=c).fit()\n",
    "print(result_c.params)\n",
    "print(result_c.summary())\n",
    "\n",
    "metrics_c = results_summary_to_dataframe(result_c)\n",
    "metrics_c.to_csv(f'{path}/horvath/control.csv')\n",
    "\n",
    "result_t = sm.ols(formula=\"DNAmAge ~ Age\", data=t).fit()\n",
    "print(result_t.params)\n",
    "print(result_t.summary())\n",
    "\n",
    "metrics_t = results_summary_to_dataframe(result_t)\n",
    "metrics_t.to_csv(f'{path}/horvath/treatment.csv')"
   ],
   "metadata": {
    "collapsed": false,
    "pycharm": {
     "name": "#%%\n"
    }
   }
  }
 ],
 "metadata": {
  "kernelspec": {
   "name": "pycharm-8c768b",
   "language": "python",
   "display_name": "PyCharm (assignment2)"
  },
  "language_info": {
   "codemirror_mode": {
    "name": "ipython",
    "version": 2
   },
   "file_extension": ".py",
   "mimetype": "text/x-python",
   "name": "python",
   "nbconvert_exporter": "python",
   "pygments_lexer": "ipython2",
   "version": "2.7.6"
  }
 },
 "nbformat": 4,
 "nbformat_minor": 0
}